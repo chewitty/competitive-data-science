{
 "cells": [
  {
   "cell_type": "markdown",
   "metadata": {},
   "source": [
    "Version 1.0.3"
   ]
  },
  {
   "cell_type": "markdown",
   "metadata": {},
   "source": [
    "# Pandas basics "
   ]
  },
  {
   "cell_type": "markdown",
   "metadata": {},
   "source": [
    "Hi! In this programming assignment you need to refresh your `pandas` knowledge. You will need to do several [`groupby`](https://pandas.pydata.org/pandas-docs/stable/generated/pandas.DataFrame.groupby.html)s and [`join`]()`s to solve the task. "
   ]
  },
  {
   "cell_type": "code",
   "execution_count": 7,
   "metadata": {
    "execution": {
     "iopub.execute_input": "2020-10-21T13:13:04.494387Z",
     "iopub.status.busy": "2020-10-21T13:13:04.494387Z",
     "iopub.status.idle": "2020-10-21T13:13:04.515134Z",
     "shell.execute_reply": "2020-10-21T13:13:04.514135Z",
     "shell.execute_reply.started": "2020-10-21T13:13:04.494387Z"
    }
   },
   "outputs": [],
   "source": [
    "import pandas as pd\n",
    "import numpy as np\n",
    "import os\n",
    "import sys\n",
    "import matplotlib.pyplot as plt\n",
    "%matplotlib inline \n",
    "\n",
    "from grader import Grader"
   ]
  },
  {
   "cell_type": "code",
   "execution_count": 4,
   "metadata": {
    "execution": {
     "iopub.execute_input": "2020-10-21T13:10:29.521570Z",
     "iopub.status.busy": "2020-10-21T13:10:29.521570Z",
     "iopub.status.idle": "2020-10-21T13:10:29.538524Z",
     "shell.execute_reply": "2020-10-21T13:10:29.538263Z",
     "shell.execute_reply.started": "2020-10-21T13:10:29.521570Z"
    }
   },
   "outputs": [
    {
     "data": {
      "text/html": [
       "<div>\n",
       "<style scoped>\n",
       "    .dataframe tbody tr th:only-of-type {\n",
       "        vertical-align: middle;\n",
       "    }\n",
       "\n",
       "    .dataframe tbody tr th {\n",
       "        vertical-align: top;\n",
       "    }\n",
       "\n",
       "    .dataframe thead th {\n",
       "        text-align: right;\n",
       "    }\n",
       "</style>\n",
       "<table border=\"1\" class=\"dataframe\">\n",
       "  <thead>\n",
       "    <tr style=\"text-align: right;\">\n",
       "      <th></th>\n",
       "      <th>num_legs</th>\n",
       "      <th>num_wings</th>\n",
       "    </tr>\n",
       "  </thead>\n",
       "  <tbody>\n",
       "    <tr>\n",
       "      <th>dog</th>\n",
       "      <td>4</td>\n",
       "      <td>0</td>\n",
       "    </tr>\n",
       "    <tr>\n",
       "      <th>hawk</th>\n",
       "      <td>2</td>\n",
       "      <td>2</td>\n",
       "    </tr>\n",
       "  </tbody>\n",
       "</table>\n",
       "</div>"
      ],
      "text/plain": [
       "      num_legs  num_wings\n",
       "dog          4          0\n",
       "hawk         2          2"
      ]
     },
     "execution_count": 4,
     "metadata": {},
     "output_type": "execute_result"
    }
   ],
   "source": [
    "df = pd.DataFrame({'num_legs': [4, 2], 'num_wings': [0, 2]}, index=['dog', 'hawk'])\n",
    "df"
   ]
  },
  {
   "cell_type": "code",
   "execution_count": 11,
   "metadata": {
    "execution": {
     "iopub.execute_input": "2020-10-21T13:18:48.280419Z",
     "iopub.status.busy": "2020-10-21T13:18:48.280419Z",
     "iopub.status.idle": "2020-10-21T13:18:48.301363Z",
     "shell.execute_reply": "2020-10-21T13:18:48.300366Z",
     "shell.execute_reply.started": "2020-10-21T13:18:48.280419Z"
    }
   },
   "outputs": [
    {
     "data": {
      "application/json": {
       "cell": {
        "!": "OSMagics",
        "HTML": "Other",
        "SVG": "Other",
        "bash": "Other",
        "capture": "ExecutionMagics",
        "cmd": "Other",
        "debug": "ExecutionMagics",
        "file": "Other",
        "html": "DisplayMagics",
        "javascript": "DisplayMagics",
        "js": "DisplayMagics",
        "latex": "DisplayMagics",
        "markdown": "DisplayMagics",
        "perl": "Other",
        "prun": "ExecutionMagics",
        "pypy": "Other",
        "python": "Other",
        "python2": "Other",
        "python3": "Other",
        "ruby": "Other",
        "script": "ScriptMagics",
        "sh": "Other",
        "svg": "DisplayMagics",
        "sx": "OSMagics",
        "system": "OSMagics",
        "time": "ExecutionMagics",
        "timeit": "ExecutionMagics",
        "writefile": "OSMagics"
       },
       "line": {
        "alias": "OSMagics",
        "alias_magic": "BasicMagics",
        "autoawait": "AsyncMagics",
        "autocall": "AutoMagics",
        "automagic": "AutoMagics",
        "autosave": "KernelMagics",
        "bookmark": "OSMagics",
        "cd": "OSMagics",
        "clear": "KernelMagics",
        "cls": "KernelMagics",
        "colors": "BasicMagics",
        "conda": "PackagingMagics",
        "config": "ConfigMagics",
        "connect_info": "KernelMagics",
        "copy": "Other",
        "ddir": "Other",
        "debug": "ExecutionMagics",
        "dhist": "OSMagics",
        "dirs": "OSMagics",
        "doctest_mode": "BasicMagics",
        "echo": "Other",
        "ed": "Other",
        "edit": "KernelMagics",
        "env": "OSMagics",
        "gui": "BasicMagics",
        "hist": "Other",
        "history": "HistoryMagics",
        "killbgscripts": "ScriptMagics",
        "ldir": "Other",
        "less": "KernelMagics",
        "load": "CodeMagics",
        "load_ext": "ExtensionMagics",
        "loadpy": "CodeMagics",
        "logoff": "LoggingMagics",
        "logon": "LoggingMagics",
        "logstart": "LoggingMagics",
        "logstate": "LoggingMagics",
        "logstop": "LoggingMagics",
        "ls": "Other",
        "lsmagic": "BasicMagics",
        "macro": "ExecutionMagics",
        "magic": "BasicMagics",
        "matplotlib": "PylabMagics",
        "mkdir": "Other",
        "more": "KernelMagics",
        "notebook": "BasicMagics",
        "page": "BasicMagics",
        "pastebin": "CodeMagics",
        "pdb": "ExecutionMagics",
        "pdef": "NamespaceMagics",
        "pdoc": "NamespaceMagics",
        "pfile": "NamespaceMagics",
        "pinfo": "NamespaceMagics",
        "pinfo2": "NamespaceMagics",
        "pip": "PackagingMagics",
        "popd": "OSMagics",
        "pprint": "BasicMagics",
        "precision": "BasicMagics",
        "prun": "ExecutionMagics",
        "psearch": "NamespaceMagics",
        "psource": "NamespaceMagics",
        "pushd": "OSMagics",
        "pwd": "OSMagics",
        "pycat": "OSMagics",
        "pylab": "PylabMagics",
        "qtconsole": "KernelMagics",
        "quickref": "BasicMagics",
        "recall": "HistoryMagics",
        "rehashx": "OSMagics",
        "reload_ext": "ExtensionMagics",
        "ren": "Other",
        "rep": "Other",
        "rerun": "HistoryMagics",
        "reset": "NamespaceMagics",
        "reset_selective": "NamespaceMagics",
        "rmdir": "Other",
        "run": "ExecutionMagics",
        "save": "CodeMagics",
        "sc": "OSMagics",
        "set_env": "OSMagics",
        "store": "StoreMagics",
        "sx": "OSMagics",
        "system": "OSMagics",
        "tb": "ExecutionMagics",
        "time": "ExecutionMagics",
        "timeit": "ExecutionMagics",
        "unalias": "OSMagics",
        "unload_ext": "ExtensionMagics",
        "who": "NamespaceMagics",
        "who_ls": "NamespaceMagics",
        "whos": "NamespaceMagics",
        "xdel": "NamespaceMagics",
        "xmode": "BasicMagics"
       }
      },
      "text/plain": [
       "Available line magics:\n",
       "%alias  %alias_magic  %autoawait  %autocall  %automagic  %autosave  %bookmark  %cd  %clear  %cls  %colors  %conda  %config  %connect_info  %copy  %ddir  %debug  %dhist  %dirs  %doctest_mode  %echo  %ed  %edit  %env  %gui  %hist  %history  %killbgscripts  %ldir  %less  %load  %load_ext  %loadpy  %logoff  %logon  %logstart  %logstate  %logstop  %ls  %lsmagic  %macro  %magic  %matplotlib  %mkdir  %more  %notebook  %page  %pastebin  %pdb  %pdef  %pdoc  %pfile  %pinfo  %pinfo2  %pip  %popd  %pprint  %precision  %prun  %psearch  %psource  %pushd  %pwd  %pycat  %pylab  %qtconsole  %quickref  %recall  %rehashx  %reload_ext  %ren  %rep  %rerun  %reset  %reset_selective  %rmdir  %run  %save  %sc  %set_env  %store  %sx  %system  %tb  %time  %timeit  %unalias  %unload_ext  %who  %who_ls  %whos  %xdel  %xmode\n",
       "\n",
       "Available cell magics:\n",
       "%%!  %%HTML  %%SVG  %%bash  %%capture  %%cmd  %%debug  %%file  %%html  %%javascript  %%js  %%latex  %%markdown  %%perl  %%prun  %%pypy  %%python  %%python2  %%python3  %%ruby  %%script  %%sh  %%svg  %%sx  %%system  %%time  %%timeit  %%writefile\n",
       "\n",
       "Automagic is ON, % prefix IS NOT needed for line magics."
      ]
     },
     "execution_count": 11,
     "metadata": {},
     "output_type": "execute_result"
    }
   ],
   "source": [
    "%lsmagic"
   ]
  },
  {
   "cell_type": "code",
   "execution_count": 13,
   "metadata": {
    "execution": {
     "iopub.execute_input": "2020-10-17T17:17:41.755322Z",
     "iopub.status.busy": "2020-10-17T17:17:41.754325Z",
     "iopub.status.idle": "2020-10-17T17:17:41.775741Z",
     "shell.execute_reply": "2020-10-17T17:17:41.774744Z",
     "shell.execute_reply.started": "2020-10-17T17:17:41.755322Z"
    }
   },
   "outputs": [
    {
     "name": "stdout",
     "output_type": "stream",
     "text": [
      "animal(Index='dog', num_legs=4, num_wings=0)\n",
      "animal(Index='hawk', num_legs=2, num_wings=2)\n",
      "dog\n",
      "hawk\n",
      "4\n",
      "2\n",
      "4\n",
      "2\n"
     ]
    }
   ],
   "source": [
    "for row in df.itertuples(name='animal'):\n",
    "    print(row)\n",
    "for row in df.itertuples(name='animal'):\n",
    "    print(row.Index)\n",
    "for row in df.itertuples(name='animal', index=False):\n",
    "    print(row.num_legs)\n",
    "for row in df.itertuples(name='animal'):\n",
    "    print(row.num_legs)"
   ]
  },
  {
   "cell_type": "code",
   "execution_count": 2,
   "metadata": {
    "execution": {
     "iopub.execute_input": "2020-10-09T18:03:07.519772Z",
     "iopub.status.busy": "2020-10-09T18:03:07.518774Z",
     "iopub.status.idle": "2020-10-09T18:03:12.775337Z",
     "shell.execute_reply": "2020-10-09T18:03:12.771391Z",
     "shell.execute_reply.started": "2020-10-09T18:03:07.519772Z"
    }
   },
   "outputs": [],
   "source": [
    "DATA_FOLDER = '../readonly/final_project_data/'\n",
    "\n",
    "transactions    = pd.read_csv(os.path.join(DATA_FOLDER, 'sales_train.csv.gz'), parse_dates=True)\n",
    "items           = pd.read_csv(os.path.join(DATA_FOLDER, 'items.csv'))\n",
    "item_categories = pd.read_csv(os.path.join(DATA_FOLDER, 'item_categories.csv'))\n",
    "shops           = pd.read_csv(os.path.join(DATA_FOLDER, 'shops.csv'))"
   ]
  },
  {
   "cell_type": "markdown",
   "metadata": {},
   "source": [
    "The dataset we are going to use is taken from the competition, that serves as the final project for this course. You can find complete data description at the [competition web page](https://www.kaggle.com/c/competitive-data-science-final-project/data). To join the competition use [this link](https://www.kaggle.com/t/1ea93815dca248e99221df42ebde3540)."
   ]
  },
  {
   "cell_type": "markdown",
   "metadata": {},
   "source": [
    "## Grading"
   ]
  },
  {
   "cell_type": "markdown",
   "metadata": {},
   "source": [
    "We will create a grader instace below and use it to collect your answers. When function `submit_tag` is called, grader will store your answer *locally*. The answers will *not* be submited to the platform immediately so you can call `submit_tag` function as many times as you need. \n",
    "\n",
    "When you are ready to push your answers to the platform you should fill your credentials and run `submit` function in the <a href=\"#Authorization-&-Submission\">last paragraph</a>  of the assignment."
   ]
  },
  {
   "cell_type": "code",
   "execution_count": 3,
   "metadata": {
    "execution": {
     "iopub.execute_input": "2020-10-09T18:03:12.784602Z",
     "iopub.status.busy": "2020-10-09T18:03:12.782956Z",
     "iopub.status.idle": "2020-10-09T18:03:12.806342Z",
     "shell.execute_reply": "2020-10-09T18:03:12.802266Z",
     "shell.execute_reply.started": "2020-10-09T18:03:12.784403Z"
    }
   },
   "outputs": [],
   "source": [
    "grader = Grader()"
   ]
  },
  {
   "cell_type": "markdown",
   "metadata": {},
   "source": [
    "# Task"
   ]
  },
  {
   "cell_type": "markdown",
   "metadata": {},
   "source": [
    "Let's start with a simple task. \n",
    "\n",
    "<ol start=\"0\">\n",
    "  <li><b>Print the shape of the loaded dataframes and use [`df.head`](https://pandas.pydata.org/pandas-docs/stable/generated/pandas.DataFrame.head.html) function to print several rows. Examine the features you are given.</b></li>\n",
    "</ol>"
   ]
  },
  {
   "cell_type": "code",
   "execution_count": 4,
   "metadata": {
    "execution": {
     "iopub.execute_input": "2020-10-09T18:03:12.814276Z",
     "iopub.status.busy": "2020-10-09T18:03:12.813232Z",
     "iopub.status.idle": "2020-10-09T18:03:12.873096Z",
     "shell.execute_reply": "2020-10-09T18:03:12.867099Z",
     "shell.execute_reply.started": "2020-10-09T18:03:12.814276Z"
    }
   },
   "outputs": [
    {
     "name": "stdout",
     "output_type": "stream",
     "text": [
      "Shapes of the loaded dataframes ...\n",
      "transactions (2935849, 6)\n",
      "items (22170, 3)\n",
      "item_categories (84, 2)\n",
      "shops (60, 2)\n"
     ]
    }
   ],
   "source": [
    "print('Shapes of the loaded dataframes ...')\n",
    "print('transactions', transactions.shape)\n",
    "print('items', items.shape)\n",
    "print('item_categories', item_categories.shape)\n",
    "print('shops', shops.shape)"
   ]
  },
  {
   "cell_type": "code",
   "execution_count": 5,
   "metadata": {
    "execution": {
     "iopub.execute_input": "2020-10-09T18:03:12.878102Z",
     "iopub.status.busy": "2020-10-09T18:03:12.876109Z",
     "iopub.status.idle": "2020-10-09T18:03:12.995855Z",
     "shell.execute_reply": "2020-10-09T18:03:12.992832Z",
     "shell.execute_reply.started": "2020-10-09T18:03:12.877438Z"
    }
   },
   "outputs": [
    {
     "data": {
      "text/html": [
       "<div>\n",
       "<style scoped>\n",
       "    .dataframe tbody tr th:only-of-type {\n",
       "        vertical-align: middle;\n",
       "    }\n",
       "\n",
       "    .dataframe tbody tr th {\n",
       "        vertical-align: top;\n",
       "    }\n",
       "\n",
       "    .dataframe thead th {\n",
       "        text-align: right;\n",
       "    }\n",
       "</style>\n",
       "<table border=\"1\" class=\"dataframe\">\n",
       "  <thead>\n",
       "    <tr style=\"text-align: right;\">\n",
       "      <th></th>\n",
       "      <th>date</th>\n",
       "      <th>date_block_num</th>\n",
       "      <th>shop_id</th>\n",
       "      <th>item_id</th>\n",
       "      <th>item_price</th>\n",
       "      <th>item_cnt_day</th>\n",
       "    </tr>\n",
       "  </thead>\n",
       "  <tbody>\n",
       "    <tr>\n",
       "      <th>0</th>\n",
       "      <td>02.01.2013</td>\n",
       "      <td>0</td>\n",
       "      <td>59</td>\n",
       "      <td>22154</td>\n",
       "      <td>999.00</td>\n",
       "      <td>1.0</td>\n",
       "    </tr>\n",
       "    <tr>\n",
       "      <th>1</th>\n",
       "      <td>03.01.2013</td>\n",
       "      <td>0</td>\n",
       "      <td>25</td>\n",
       "      <td>2552</td>\n",
       "      <td>899.00</td>\n",
       "      <td>1.0</td>\n",
       "    </tr>\n",
       "    <tr>\n",
       "      <th>2</th>\n",
       "      <td>05.01.2013</td>\n",
       "      <td>0</td>\n",
       "      <td>25</td>\n",
       "      <td>2552</td>\n",
       "      <td>899.00</td>\n",
       "      <td>-1.0</td>\n",
       "    </tr>\n",
       "    <tr>\n",
       "      <th>3</th>\n",
       "      <td>06.01.2013</td>\n",
       "      <td>0</td>\n",
       "      <td>25</td>\n",
       "      <td>2554</td>\n",
       "      <td>1709.05</td>\n",
       "      <td>1.0</td>\n",
       "    </tr>\n",
       "    <tr>\n",
       "      <th>4</th>\n",
       "      <td>15.01.2013</td>\n",
       "      <td>0</td>\n",
       "      <td>25</td>\n",
       "      <td>2555</td>\n",
       "      <td>1099.00</td>\n",
       "      <td>1.0</td>\n",
       "    </tr>\n",
       "  </tbody>\n",
       "</table>\n",
       "</div>"
      ],
      "text/plain": [
       "         date  date_block_num  shop_id  item_id  item_price  item_cnt_day\n",
       "0  02.01.2013               0       59    22154      999.00           1.0\n",
       "1  03.01.2013               0       25     2552      899.00           1.0\n",
       "2  05.01.2013               0       25     2552      899.00          -1.0\n",
       "3  06.01.2013               0       25     2554     1709.05           1.0\n",
       "4  15.01.2013               0       25     2555     1099.00           1.0"
      ]
     },
     "execution_count": 5,
     "metadata": {},
     "output_type": "execute_result"
    }
   ],
   "source": [
    "transactions.head()\n",
    "#items.head()\n",
    "#item_categories.head()\n",
    "#shops.head()"
   ]
  },
  {
   "cell_type": "code",
   "execution_count": 6,
   "metadata": {
    "execution": {
     "iopub.execute_input": "2020-10-09T18:03:12.998952Z",
     "iopub.status.busy": "2020-10-09T18:03:12.997817Z",
     "iopub.status.idle": "2020-10-09T18:03:13.026742Z",
     "shell.execute_reply": "2020-10-09T18:03:13.023750Z",
     "shell.execute_reply.started": "2020-10-09T18:03:12.998952Z"
    }
   },
   "outputs": [
    {
     "data": {
      "text/plain": [
       "date               object\n",
       "date_block_num      int64\n",
       "shop_id             int64\n",
       "item_id             int64\n",
       "item_price        float64\n",
       "item_cnt_day      float64\n",
       "dtype: object"
      ]
     },
     "execution_count": 6,
     "metadata": {},
     "output_type": "execute_result"
    }
   ],
   "source": [
    "transactions.dtypes"
   ]
  },
  {
   "cell_type": "code",
   "execution_count": 7,
   "metadata": {
    "execution": {
     "iopub.execute_input": "2020-10-09T18:03:13.032975Z",
     "iopub.status.busy": "2020-10-09T18:03:13.030732Z",
     "iopub.status.idle": "2020-10-09T18:03:14.191511Z",
     "shell.execute_reply": "2020-10-09T18:03:14.190263Z",
     "shell.execute_reply.started": "2020-10-09T18:03:13.032975Z"
    }
   },
   "outputs": [
    {
     "data": {
      "text/plain": [
       "date              datetime64[ns]\n",
       "date_block_num             int64\n",
       "shop_id                    int64\n",
       "item_id                    int64\n",
       "item_price               float64\n",
       "item_cnt_day             float64\n",
       "dtype: object"
      ]
     },
     "execution_count": 7,
     "metadata": {},
     "output_type": "execute_result"
    }
   ],
   "source": [
    "transactions['date'] = pd.to_datetime(transactions['date'], format = '%d.%m.%Y')\n",
    "transactions.dtypes"
   ]
  },
  {
   "cell_type": "code",
   "execution_count": 8,
   "metadata": {
    "execution": {
     "iopub.execute_input": "2020-10-09T18:03:14.195249Z",
     "iopub.status.busy": "2020-10-09T18:03:14.194252Z",
     "iopub.status.idle": "2020-10-09T18:03:14.317921Z",
     "shell.execute_reply": "2020-10-09T18:03:14.316922Z",
     "shell.execute_reply.started": "2020-10-09T18:03:14.195249Z"
    }
   },
   "outputs": [
    {
     "data": {
      "text/plain": [
       "date              0\n",
       "date_block_num    0\n",
       "shop_id           0\n",
       "item_id           0\n",
       "item_price        0\n",
       "item_cnt_day      0\n",
       "dtype: int64"
      ]
     },
     "execution_count": 8,
     "metadata": {},
     "output_type": "execute_result"
    }
   ],
   "source": [
    "transactions.isnull().sum()"
   ]
  },
  {
   "cell_type": "markdown",
   "metadata": {},
   "source": [
    "Now use your `pandas` skills to get answers for the following questions. \n",
    "The first question is:\n",
    "\n",
    "1. ** What was the maximum total revenue among all the shops in September, 2014?** \n",
    "\n",
    "\n",
    "* Hereinafter *revenue* refers to total sales minus value of goods returned.\n",
    "\n",
    "*Hints:*\n",
    "\n",
    "* Sometimes items are returned, find such examples in the dataset. \n",
    "* It is handy to split `date` field into [`day`, `month`, `year`] components and use `df.year == 14` and `df.month == 9` in order to select target subset of dates.\n",
    "* You may work with `date` feature as with strings, or you may first convert it to `pd.datetime` type with `pd.to_datetime` function, but do not forget to set correct `format` argument."
   ]
  },
  {
   "cell_type": "code",
   "execution_count": 9,
   "metadata": {
    "execution": {
     "iopub.execute_input": "2020-10-09T18:03:14.323009Z",
     "iopub.status.busy": "2020-10-09T18:03:14.321909Z",
     "iopub.status.idle": "2020-10-09T18:03:15.948738Z",
     "shell.execute_reply": "2020-10-09T18:03:15.944692Z",
     "shell.execute_reply.started": "2020-10-09T18:03:14.323009Z"
    }
   },
   "outputs": [
    {
     "data": {
      "text/html": [
       "<div>\n",
       "<style scoped>\n",
       "    .dataframe tbody tr th:only-of-type {\n",
       "        vertical-align: middle;\n",
       "    }\n",
       "\n",
       "    .dataframe tbody tr th {\n",
       "        vertical-align: top;\n",
       "    }\n",
       "\n",
       "    .dataframe thead th {\n",
       "        text-align: right;\n",
       "    }\n",
       "</style>\n",
       "<table border=\"1\" class=\"dataframe\">\n",
       "  <thead>\n",
       "    <tr style=\"text-align: right;\">\n",
       "      <th></th>\n",
       "      <th>date</th>\n",
       "      <th>date_block_num</th>\n",
       "      <th>shop_id</th>\n",
       "      <th>item_id</th>\n",
       "      <th>item_price</th>\n",
       "      <th>item_cnt_day</th>\n",
       "      <th>day</th>\n",
       "      <th>month</th>\n",
       "      <th>year</th>\n",
       "    </tr>\n",
       "  </thead>\n",
       "  <tbody>\n",
       "    <tr>\n",
       "      <th>0</th>\n",
       "      <td>2013-01-02</td>\n",
       "      <td>0</td>\n",
       "      <td>59</td>\n",
       "      <td>22154</td>\n",
       "      <td>999.00</td>\n",
       "      <td>1.0</td>\n",
       "      <td>2</td>\n",
       "      <td>1</td>\n",
       "      <td>2013</td>\n",
       "    </tr>\n",
       "    <tr>\n",
       "      <th>1</th>\n",
       "      <td>2013-01-03</td>\n",
       "      <td>0</td>\n",
       "      <td>25</td>\n",
       "      <td>2552</td>\n",
       "      <td>899.00</td>\n",
       "      <td>1.0</td>\n",
       "      <td>3</td>\n",
       "      <td>1</td>\n",
       "      <td>2013</td>\n",
       "    </tr>\n",
       "    <tr>\n",
       "      <th>2</th>\n",
       "      <td>2013-01-05</td>\n",
       "      <td>0</td>\n",
       "      <td>25</td>\n",
       "      <td>2552</td>\n",
       "      <td>899.00</td>\n",
       "      <td>-1.0</td>\n",
       "      <td>5</td>\n",
       "      <td>1</td>\n",
       "      <td>2013</td>\n",
       "    </tr>\n",
       "    <tr>\n",
       "      <th>3</th>\n",
       "      <td>2013-01-06</td>\n",
       "      <td>0</td>\n",
       "      <td>25</td>\n",
       "      <td>2554</td>\n",
       "      <td>1709.05</td>\n",
       "      <td>1.0</td>\n",
       "      <td>6</td>\n",
       "      <td>1</td>\n",
       "      <td>2013</td>\n",
       "    </tr>\n",
       "    <tr>\n",
       "      <th>4</th>\n",
       "      <td>2013-01-15</td>\n",
       "      <td>0</td>\n",
       "      <td>25</td>\n",
       "      <td>2555</td>\n",
       "      <td>1099.00</td>\n",
       "      <td>1.0</td>\n",
       "      <td>15</td>\n",
       "      <td>1</td>\n",
       "      <td>2013</td>\n",
       "    </tr>\n",
       "  </tbody>\n",
       "</table>\n",
       "</div>"
      ],
      "text/plain": [
       "        date  date_block_num  shop_id  item_id  item_price  item_cnt_day  day  \\\n",
       "0 2013-01-02               0       59    22154      999.00           1.0    2   \n",
       "1 2013-01-03               0       25     2552      899.00           1.0    3   \n",
       "2 2013-01-05               0       25     2552      899.00          -1.0    5   \n",
       "3 2013-01-06               0       25     2554     1709.05           1.0    6   \n",
       "4 2013-01-15               0       25     2555     1099.00           1.0   15   \n",
       "\n",
       "   month  year  \n",
       "0      1  2013  \n",
       "1      1  2013  \n",
       "2      1  2013  \n",
       "3      1  2013  \n",
       "4      1  2013  "
      ]
     },
     "execution_count": 9,
     "metadata": {},
     "output_type": "execute_result"
    }
   ],
   "source": [
    "transactions['day'] = transactions['date'].dt.day\n",
    "transactions['month'] = transactions['date'].dt.month\n",
    "transactions['year'] = transactions['date'].dt.year\n",
    "transactions.head()"
   ]
  },
  {
   "cell_type": "code",
   "execution_count": 10,
   "metadata": {
    "execution": {
     "iopub.execute_input": "2020-10-09T18:03:15.955705Z",
     "iopub.status.busy": "2020-10-09T18:03:15.954663Z",
     "iopub.status.idle": "2020-10-09T18:03:15.993795Z",
     "shell.execute_reply": "2020-10-09T18:03:15.989810Z",
     "shell.execute_reply.started": "2020-10-09T18:03:15.955705Z"
    }
   },
   "outputs": [
    {
     "data": {
      "text/plain": [
       "date              datetime64[ns]\n",
       "date_block_num             int64\n",
       "shop_id                    int64\n",
       "item_id                    int64\n",
       "item_price               float64\n",
       "item_cnt_day             float64\n",
       "day                        int64\n",
       "month                      int64\n",
       "year                       int64\n",
       "dtype: object"
      ]
     },
     "execution_count": 10,
     "metadata": {},
     "output_type": "execute_result"
    }
   ],
   "source": [
    "transactions.dtypes"
   ]
  },
  {
   "cell_type": "code",
   "execution_count": 11,
   "metadata": {
    "execution": {
     "iopub.execute_input": "2020-10-09T18:03:16.001776Z",
     "iopub.status.busy": "2020-10-09T18:03:15.998785Z",
     "iopub.status.idle": "2020-10-09T18:03:16.568767Z",
     "shell.execute_reply": "2020-10-09T18:03:16.567771Z",
     "shell.execute_reply.started": "2020-10-09T18:03:16.000779Z"
    }
   },
   "outputs": [
    {
     "name": "stdout",
     "output_type": "stream",
     "text": [
      "Max revenue per shop 7982852.199999956\n"
     ]
    }
   ],
   "source": [
    "transactions['revenue'] = transactions['item_price'] * transactions['item_cnt_day']\n",
    "# slice only dataframe for relevant period\n",
    "transactions_2014 = transactions[transactions['year'] == 2014]\n",
    "# slice off the relevant month's transactions - do not exclude returns\n",
    "trans_2014_sep = transactions_2014[(transactions_2014['month'] == 9)]\n",
    "# use groupby to retrieve data per shop\n",
    "max_rev_per_shop = trans_2014_sep.groupby(['shop_id'])['revenue'].sum().max()\n",
    "print('Max revenue per shop', max_rev_per_shop)"
   ]
  },
  {
   "cell_type": "code",
   "execution_count": 12,
   "metadata": {
    "execution": {
     "iopub.execute_input": "2020-10-09T18:03:16.571760Z",
     "iopub.status.busy": "2020-10-09T18:03:16.571760Z",
     "iopub.status.idle": "2020-10-09T18:03:16.584725Z",
     "shell.execute_reply": "2020-10-09T18:03:16.582746Z",
     "shell.execute_reply.started": "2020-10-09T18:03:16.571760Z"
    }
   },
   "outputs": [
    {
     "name": "stdout",
     "output_type": "stream",
     "text": [
      "Current answer for task max_revenue is: 7982852.199999956\n"
     ]
    }
   ],
   "source": [
    "max_revenue = max_rev_per_shop\n",
    "grader.submit_tag('max_revenue', max_revenue)"
   ]
  },
  {
   "cell_type": "markdown",
   "metadata": {},
   "source": [
    "Great! Let's move on and answer another question:\n",
    "\n",
    "<ol start=\"2\">\n",
    "  <li><b>What item category generated the highest revenue in summer 2014?</b></li>\n",
    "</ol>\n",
    "\n",
    "* Submit `id` of the category found.\n",
    "    \n",
    "* Here we call \"summer\" the period from June to August.\n",
    "\n",
    "*Hints:*\n",
    "\n",
    "* Note, that for an object `x` of type `pd.Series`: `x.argmax()` returns **index** of the maximum element. `pd.Series` can have non-trivial index (not `[1, 2, 3, ... ]`)."
   ]
  },
  {
   "cell_type": "code",
   "execution_count": 13,
   "metadata": {
    "execution": {
     "iopub.execute_input": "2020-10-09T18:03:16.587717Z",
     "iopub.status.busy": "2020-10-09T18:03:16.586720Z",
     "iopub.status.idle": "2020-10-09T18:03:16.631604Z",
     "shell.execute_reply": "2020-10-09T18:03:16.629605Z",
     "shell.execute_reply.started": "2020-10-09T18:03:16.587717Z"
    }
   },
   "outputs": [
    {
     "data": {
      "text/html": [
       "<div>\n",
       "<style scoped>\n",
       "    .dataframe tbody tr th:only-of-type {\n",
       "        vertical-align: middle;\n",
       "    }\n",
       "\n",
       "    .dataframe tbody tr th {\n",
       "        vertical-align: top;\n",
       "    }\n",
       "\n",
       "    .dataframe thead th {\n",
       "        text-align: right;\n",
       "    }\n",
       "</style>\n",
       "<table border=\"1\" class=\"dataframe\">\n",
       "  <thead>\n",
       "    <tr style=\"text-align: right;\">\n",
       "      <th></th>\n",
       "      <th>item_category_name</th>\n",
       "      <th>item_category_id</th>\n",
       "    </tr>\n",
       "  </thead>\n",
       "  <tbody>\n",
       "    <tr>\n",
       "      <th>0</th>\n",
       "      <td>PC - Гарнитуры/Наушники</td>\n",
       "      <td>0</td>\n",
       "    </tr>\n",
       "    <tr>\n",
       "      <th>1</th>\n",
       "      <td>Аксессуары - PS2</td>\n",
       "      <td>1</td>\n",
       "    </tr>\n",
       "    <tr>\n",
       "      <th>2</th>\n",
       "      <td>Аксессуары - PS3</td>\n",
       "      <td>2</td>\n",
       "    </tr>\n",
       "    <tr>\n",
       "      <th>3</th>\n",
       "      <td>Аксессуары - PS4</td>\n",
       "      <td>3</td>\n",
       "    </tr>\n",
       "    <tr>\n",
       "      <th>4</th>\n",
       "      <td>Аксессуары - PSP</td>\n",
       "      <td>4</td>\n",
       "    </tr>\n",
       "  </tbody>\n",
       "</table>\n",
       "</div>"
      ],
      "text/plain": [
       "        item_category_name  item_category_id\n",
       "0  PC - Гарнитуры/Наушники                 0\n",
       "1         Аксессуары - PS2                 1\n",
       "2         Аксессуары - PS3                 2\n",
       "3         Аксессуары - PS4                 3\n",
       "4         Аксессуары - PSP                 4"
      ]
     },
     "execution_count": 13,
     "metadata": {},
     "output_type": "execute_result"
    }
   ],
   "source": [
    "item_categories.head()"
   ]
  },
  {
   "cell_type": "code",
   "execution_count": 14,
   "metadata": {
    "execution": {
     "iopub.execute_input": "2020-10-09T18:03:16.636588Z",
     "iopub.status.busy": "2020-10-09T18:03:16.634593Z",
     "iopub.status.idle": "2020-10-09T18:03:16.663515Z",
     "shell.execute_reply": "2020-10-09T18:03:16.660524Z",
     "shell.execute_reply.started": "2020-10-09T18:03:16.636588Z"
    }
   },
   "outputs": [
    {
     "data": {
      "text/html": [
       "<div>\n",
       "<style scoped>\n",
       "    .dataframe tbody tr th:only-of-type {\n",
       "        vertical-align: middle;\n",
       "    }\n",
       "\n",
       "    .dataframe tbody tr th {\n",
       "        vertical-align: top;\n",
       "    }\n",
       "\n",
       "    .dataframe thead th {\n",
       "        text-align: right;\n",
       "    }\n",
       "</style>\n",
       "<table border=\"1\" class=\"dataframe\">\n",
       "  <thead>\n",
       "    <tr style=\"text-align: right;\">\n",
       "      <th></th>\n",
       "      <th>item_name</th>\n",
       "      <th>item_id</th>\n",
       "      <th>item_category_id</th>\n",
       "    </tr>\n",
       "  </thead>\n",
       "  <tbody>\n",
       "    <tr>\n",
       "      <th>0</th>\n",
       "      <td>! ВО ВЛАСТИ НАВАЖДЕНИЯ (ПЛАСТ.)         D</td>\n",
       "      <td>0</td>\n",
       "      <td>40</td>\n",
       "    </tr>\n",
       "    <tr>\n",
       "      <th>1</th>\n",
       "      <td>!ABBYY FineReader 12 Professional Edition Full...</td>\n",
       "      <td>1</td>\n",
       "      <td>76</td>\n",
       "    </tr>\n",
       "    <tr>\n",
       "      <th>2</th>\n",
       "      <td>***В ЛУЧАХ СЛАВЫ   (UNV)                    D</td>\n",
       "      <td>2</td>\n",
       "      <td>40</td>\n",
       "    </tr>\n",
       "    <tr>\n",
       "      <th>3</th>\n",
       "      <td>***ГОЛУБАЯ ВОЛНА  (Univ)                      D</td>\n",
       "      <td>3</td>\n",
       "      <td>40</td>\n",
       "    </tr>\n",
       "    <tr>\n",
       "      <th>4</th>\n",
       "      <td>***КОРОБКА (СТЕКЛО)                       D</td>\n",
       "      <td>4</td>\n",
       "      <td>40</td>\n",
       "    </tr>\n",
       "  </tbody>\n",
       "</table>\n",
       "</div>"
      ],
      "text/plain": [
       "                                           item_name  item_id  \\\n",
       "0          ! ВО ВЛАСТИ НАВАЖДЕНИЯ (ПЛАСТ.)         D        0   \n",
       "1  !ABBYY FineReader 12 Professional Edition Full...        1   \n",
       "2      ***В ЛУЧАХ СЛАВЫ   (UNV)                    D        2   \n",
       "3    ***ГОЛУБАЯ ВОЛНА  (Univ)                      D        3   \n",
       "4        ***КОРОБКА (СТЕКЛО)                       D        4   \n",
       "\n",
       "   item_category_id  \n",
       "0                40  \n",
       "1                76  \n",
       "2                40  \n",
       "3                40  \n",
       "4                40  "
      ]
     },
     "execution_count": 14,
     "metadata": {},
     "output_type": "execute_result"
    }
   ],
   "source": [
    "items.head()"
   ]
  },
  {
   "cell_type": "code",
   "execution_count": 15,
   "metadata": {
    "execution": {
     "iopub.execute_input": "2020-10-09T18:03:16.666509Z",
     "iopub.status.busy": "2020-10-09T18:03:16.666509Z",
     "iopub.status.idle": "2020-10-09T18:03:17.883067Z",
     "shell.execute_reply": "2020-10-09T18:03:17.880329Z",
     "shell.execute_reply.started": "2020-10-09T18:03:16.666509Z"
    }
   },
   "outputs": [
    {
     "data": {
      "text/html": [
       "<div>\n",
       "<style scoped>\n",
       "    .dataframe tbody tr th:only-of-type {\n",
       "        vertical-align: middle;\n",
       "    }\n",
       "\n",
       "    .dataframe tbody tr th {\n",
       "        vertical-align: top;\n",
       "    }\n",
       "\n",
       "    .dataframe thead th {\n",
       "        text-align: right;\n",
       "    }\n",
       "</style>\n",
       "<table border=\"1\" class=\"dataframe\">\n",
       "  <thead>\n",
       "    <tr style=\"text-align: right;\">\n",
       "      <th></th>\n",
       "      <th>date</th>\n",
       "      <th>date_block_num</th>\n",
       "      <th>shop_id</th>\n",
       "      <th>item_id</th>\n",
       "      <th>item_price</th>\n",
       "      <th>item_cnt_day</th>\n",
       "      <th>day</th>\n",
       "      <th>month</th>\n",
       "      <th>year</th>\n",
       "      <th>revenue</th>\n",
       "      <th>item_name</th>\n",
       "      <th>item_category_id</th>\n",
       "    </tr>\n",
       "  </thead>\n",
       "  <tbody>\n",
       "    <tr>\n",
       "      <th>0</th>\n",
       "      <td>2014-01-02</td>\n",
       "      <td>12</td>\n",
       "      <td>54</td>\n",
       "      <td>10297</td>\n",
       "      <td>749.0</td>\n",
       "      <td>1.0</td>\n",
       "      <td>2</td>\n",
       "      <td>1</td>\n",
       "      <td>2014</td>\n",
       "      <td>749.0</td>\n",
       "      <td>ГАДКИЙ Я 1-2 (BD)</td>\n",
       "      <td>37</td>\n",
       "    </tr>\n",
       "    <tr>\n",
       "      <th>1</th>\n",
       "      <td>2014-01-10</td>\n",
       "      <td>12</td>\n",
       "      <td>54</td>\n",
       "      <td>10297</td>\n",
       "      <td>749.0</td>\n",
       "      <td>1.0</td>\n",
       "      <td>10</td>\n",
       "      <td>1</td>\n",
       "      <td>2014</td>\n",
       "      <td>749.0</td>\n",
       "      <td>ГАДКИЙ Я 1-2 (BD)</td>\n",
       "      <td>37</td>\n",
       "    </tr>\n",
       "    <tr>\n",
       "      <th>2</th>\n",
       "      <td>2014-01-24</td>\n",
       "      <td>12</td>\n",
       "      <td>54</td>\n",
       "      <td>10297</td>\n",
       "      <td>749.0</td>\n",
       "      <td>1.0</td>\n",
       "      <td>24</td>\n",
       "      <td>1</td>\n",
       "      <td>2014</td>\n",
       "      <td>749.0</td>\n",
       "      <td>ГАДКИЙ Я 1-2 (BD)</td>\n",
       "      <td>37</td>\n",
       "    </tr>\n",
       "    <tr>\n",
       "      <th>3</th>\n",
       "      <td>2014-01-31</td>\n",
       "      <td>12</td>\n",
       "      <td>54</td>\n",
       "      <td>10297</td>\n",
       "      <td>749.0</td>\n",
       "      <td>1.0</td>\n",
       "      <td>31</td>\n",
       "      <td>1</td>\n",
       "      <td>2014</td>\n",
       "      <td>749.0</td>\n",
       "      <td>ГАДКИЙ Я 1-2 (BD)</td>\n",
       "      <td>37</td>\n",
       "    </tr>\n",
       "    <tr>\n",
       "      <th>4</th>\n",
       "      <td>2014-01-23</td>\n",
       "      <td>12</td>\n",
       "      <td>58</td>\n",
       "      <td>10297</td>\n",
       "      <td>749.0</td>\n",
       "      <td>1.0</td>\n",
       "      <td>23</td>\n",
       "      <td>1</td>\n",
       "      <td>2014</td>\n",
       "      <td>749.0</td>\n",
       "      <td>ГАДКИЙ Я 1-2 (BD)</td>\n",
       "      <td>37</td>\n",
       "    </tr>\n",
       "  </tbody>\n",
       "</table>\n",
       "</div>"
      ],
      "text/plain": [
       "        date  date_block_num  shop_id  item_id  item_price  item_cnt_day  day  \\\n",
       "0 2014-01-02              12       54    10297       749.0           1.0    2   \n",
       "1 2014-01-10              12       54    10297       749.0           1.0   10   \n",
       "2 2014-01-24              12       54    10297       749.0           1.0   24   \n",
       "3 2014-01-31              12       54    10297       749.0           1.0   31   \n",
       "4 2014-01-23              12       58    10297       749.0           1.0   23   \n",
       "\n",
       "   month  year  revenue          item_name  item_category_id  \n",
       "0      1  2014    749.0  ГАДКИЙ Я 1-2 (BD)                37  \n",
       "1      1  2014    749.0  ГАДКИЙ Я 1-2 (BD)                37  \n",
       "2      1  2014    749.0  ГАДКИЙ Я 1-2 (BD)                37  \n",
       "3      1  2014    749.0  ГАДКИЙ Я 1-2 (BD)                37  \n",
       "4      1  2014    749.0  ГАДКИЙ Я 1-2 (BD)                37  "
      ]
     },
     "execution_count": 15,
     "metadata": {},
     "output_type": "execute_result"
    }
   ],
   "source": [
    "combined_trans_2014 = transactions_2014.merge(items, left_on='item_id', right_on='item_id')\n",
    "combined_trans_2014.head()"
   ]
  },
  {
   "cell_type": "code",
   "execution_count": 16,
   "metadata": {
    "execution": {
     "iopub.execute_input": "2020-10-09T18:03:17.887013Z",
     "iopub.status.busy": "2020-10-09T18:03:17.886015Z",
     "iopub.status.idle": "2020-10-09T18:03:18.133013Z",
     "shell.execute_reply": "2020-10-09T18:03:18.131018Z",
     "shell.execute_reply.started": "2020-10-09T18:03:17.887013Z"
    }
   },
   "outputs": [
    {
     "name": "stdout",
     "output_type": "stream",
     "text": [
      "Category with max revenue is (item_id = 15 ) with revenue 32157302.430000115\n"
     ]
    }
   ],
   "source": [
    "# slice off the summer transactions only\n",
    "trans_2014_summer = combined_trans_2014[(combined_trans_2014['month'] >= 6) & (combined_trans_2014['month'] <= 8)]\n",
    "cat_revenue = trans_2014_summer.groupby(['item_category_id'])['revenue'].sum()\n",
    "cat_with_max_rev = cat_revenue.argmax()\n",
    "cat_max_rev = cat_revenue.to_frame().revenue.iloc[cat_with_max_rev]\n",
    "print('Category with max revenue is (item_id =', cat_with_max_rev, ') with revenue', cat_max_rev)"
   ]
  },
  {
   "cell_type": "code",
   "execution_count": 17,
   "metadata": {
    "execution": {
     "iopub.execute_input": "2020-10-09T18:03:18.136112Z",
     "iopub.status.busy": "2020-10-09T18:03:18.135009Z",
     "iopub.status.idle": "2020-10-09T18:03:18.150584Z",
     "shell.execute_reply": "2020-10-09T18:03:18.146594Z",
     "shell.execute_reply.started": "2020-10-09T18:03:18.136112Z"
    }
   },
   "outputs": [
    {
     "name": "stdout",
     "output_type": "stream",
     "text": [
      "Current answer for task category_id_with_max_revenue is: 15\n"
     ]
    }
   ],
   "source": [
    "category_id_with_max_revenue = cat_with_max_rev\n",
    "grader.submit_tag('category_id_with_max_revenue', category_id_with_max_revenue)"
   ]
  },
  {
   "cell_type": "markdown",
   "metadata": {},
   "source": [
    "<ol start=\"3\">\n",
    "  <li><b>How many items are there, such that their price stays constant (to the best of our knowledge) during the whole period of time?</b></li>\n",
    "</ol>\n",
    "\n",
    "* Let's assume, that the items are returned for the same price as they had been sold."
   ]
  },
  {
   "cell_type": "code",
   "execution_count": 39,
   "metadata": {
    "execution": {
     "iopub.execute_input": "2020-10-10T07:58:08.303277Z",
     "iopub.status.busy": "2020-10-10T07:58:08.303277Z",
     "iopub.status.idle": "2020-10-10T07:58:11.549441Z",
     "shell.execute_reply": "2020-10-10T07:58:11.547593Z",
     "shell.execute_reply.started": "2020-10-10T07:58:08.303277Z"
    }
   },
   "outputs": [
    {
     "data": {
      "text/plain": [
       "(5926, 1)"
      ]
     },
     "execution_count": 39,
     "metadata": {},
     "output_type": "execute_result"
    }
   ],
   "source": [
    "nitems_unique_prices = transactions.groupby(['item_id'])['item_price'].nunique().to_frame()\n",
    "nitems_unique_prices.rename(columns={'item_price': 'nunique_price'}, inplace=True)\n",
    "items_unchanged = nitems_unique_prices[nitems_unique_prices['nunique_price'] == 1]\n",
    "items_unchanged.shape"
   ]
  },
  {
   "cell_type": "code",
   "execution_count": 40,
   "metadata": {
    "execution": {
     "iopub.execute_input": "2020-10-10T07:59:32.990101Z",
     "iopub.status.busy": "2020-10-10T07:59:32.989104Z",
     "iopub.status.idle": "2020-10-10T07:59:32.998080Z",
     "shell.execute_reply": "2020-10-10T07:59:32.997082Z",
     "shell.execute_reply.started": "2020-10-10T07:59:32.990101Z"
    }
   },
   "outputs": [
    {
     "name": "stdout",
     "output_type": "stream",
     "text": [
      "Current answer for task num_items_constant_price is: 5926\n"
     ]
    }
   ],
   "source": [
    "num_items_constant_price = items_unchanged.shape[0]\n",
    "grader.submit_tag('num_items_constant_price', num_items_constant_price)"
   ]
  },
  {
   "cell_type": "markdown",
   "metadata": {},
   "source": [
    "Remember, the data can sometimes be noisy."
   ]
  },
  {
   "cell_type": "markdown",
   "metadata": {},
   "source": [
    "<ol start=\"4\">\n",
    "  <li><b>What was the variance of the number of sold items per day sequence for the shop with `shop_id = 25` in December, 2014? Do not count the items, that were sold but returned back later.</b></li>\n",
    "</ol>\n",
    "\n",
    "* Fill `total_num_items_sold` and `days` arrays, and plot the sequence with the code below.\n",
    "* Then compute variance. Remember, there can be differences in how you normalize variance (biased or unbiased estimate, see [link](https://math.stackexchange.com/questions/496627/the-difference-between-unbiased-biased-estimator-variance)). Compute ***unbiased*** estimate (use the right value for `ddof` argument in `pd.var` or `np.var`). \n",
    "* If there were no sales at a given day, ***do not*** impute missing value with zero, just ignore that day"
   ]
  },
  {
   "cell_type": "code",
   "execution_count": 94,
   "metadata": {
    "execution": {
     "iopub.execute_input": "2020-10-10T14:24:53.003957Z",
     "iopub.status.busy": "2020-10-10T14:24:53.002960Z",
     "iopub.status.idle": "2020-10-10T14:24:53.060804Z",
     "shell.execute_reply": "2020-10-10T14:24:53.059850Z",
     "shell.execute_reply.started": "2020-10-10T14:24:53.003957Z"
    }
   },
   "outputs": [
    {
     "name": "stdout",
     "output_type": "stream",
     "text": [
      "Variance in nitems 117167.70229885059\n"
     ]
    }
   ],
   "source": [
    "combined_trans_2014_dec = combined_trans_2014[(combined_trans_2014['month'] == 12)]\n",
    "trans_shop25 = combined_trans_2014_dec[combined_trans_2014_dec['shop_id'] == 25]\n",
    "the_groups = trans_shop25.groupby(['day'])\n",
    "total_nitems = the_groups['item_cnt_day'].sum()\n",
    "the_days = [name for name, the_day in the_groups]\n",
    "nitem_per_var = total_nitems.var(ddof=1)\n",
    "print('Variance in nitems', nitem_per_var)"
   ]
  },
  {
   "cell_type": "code",
   "execution_count": 95,
   "metadata": {
    "execution": {
     "iopub.execute_input": "2020-10-10T14:25:03.902794Z",
     "iopub.status.busy": "2020-10-10T14:25:03.901796Z",
     "iopub.status.idle": "2020-10-10T14:25:04.137168Z",
     "shell.execute_reply": "2020-10-10T14:25:04.136172Z",
     "shell.execute_reply.started": "2020-10-10T14:25:03.902794Z"
    }
   },
   "outputs": [
    {
     "data": {
      "image/png": "[encoded data removed]",
      "text/plain": [
       "<Figure size 432x288 with 1 Axes>"
      ]
     },
     "metadata": {
      "needs_background": "light"
     },
     "output_type": "display_data"
    },
    {
     "name": "stdout",
     "output_type": "stream",
     "text": [
      "Current answer for task total_num_items_sold_var is: 117167.70229885059\n"
     ]
    }
   ],
   "source": [
    "shop_id = 25\n",
    "\n",
    "total_num_items_sold = total_nitems\n",
    "days = the_days\n",
    "\n",
    "# Plot it\n",
    "plt.plot(days, total_num_items_sold)\n",
    "plt.ylabel('Num items')\n",
    "plt.xlabel('Day')\n",
    "plt.title(\"Daily revenue for shop_id = 25\")\n",
    "plt.show()\n",
    "\n",
    "total_num_items_sold_var = nitem_per_var\n",
    "grader.submit_tag('total_num_items_sold_var', total_num_items_sold_var)"
   ]
  },
  {
   "cell_type": "markdown",
   "metadata": {},
   "source": [
    "## Authorization & Submission\n",
    "To submit assignment to Cousera platform, please, enter your e-mail and token into the variables below. You can generate token on the programming assignment page. *Note:* Token expires 30 minutes after generation."
   ]
  },
  {
   "cell_type": "code",
   "execution_count": 41,
   "metadata": {
    "execution": {
     "iopub.execute_input": "2020-10-10T08:00:17.842025Z",
     "iopub.status.busy": "2020-10-10T08:00:17.841027Z",
     "iopub.status.idle": "2020-10-10T08:00:17.850003Z",
     "shell.execute_reply": "2020-10-10T08:00:17.849071Z",
     "shell.execute_reply.started": "2020-10-10T08:00:17.841027Z"
    }
   },
   "outputs": [
    {
     "name": "stdout",
     "output_type": "stream",
     "text": [
      "You want to submit these numbers:\n",
      "Task max_revenue: 7982852.199999956\n",
      "Task category_id_with_max_revenue: 15\n",
      "Task num_items_constant_price: 5926\n",
      "Task total_num_items_sold_var: ----------\n"
     ]
    }
   ],
   "source": [
    "STUDENT_EMAIL = 'ferdinand.che@gmail.com'\n",
    "STUDENT_TOKEN = 'vaOOgEf5rM4bqlS1'\n",
    "grader.status()"
   ]
  },
  {
   "cell_type": "code",
   "execution_count": null,
   "metadata": {},
   "outputs": [],
   "source": [
    "grader.submit(STUDENT_EMAIL, STUDENT_TOKEN)"
   ]
  },
  {
   "cell_type": "markdown",
   "metadata": {},
   "source": [
    "Well done! :)"
   ]
  }
 ],
 "metadata": {
  "hw_version": "1.0.0",
  "kernelspec": {
   "display_name": "Python 3",
   "language": "python",
   "name": "python3"
  },
  "language_info": {
   "codemirror_mode": {
    "name": "ipython",
    "version": 3
   },
   "file_extension": ".py",
   "mimetype": "text/x-python",
   "name": "python",
   "nbconvert_exporter": "python",
   "pygments_lexer": "ipython3",
   "version": "3.6.12"
  }
 },
 "nbformat": 4,
 "nbformat_minor": 4
}
